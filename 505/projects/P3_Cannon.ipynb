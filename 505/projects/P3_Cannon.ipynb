{
 "cells": [
  {
   "cell_type": "code",
   "execution_count": 86,
   "metadata": {},
   "outputs": [],
   "source": [
    "import matplotlib.pyplot as plt\n",
    "import numpy as np\n",
    "from sklearn.decomposition import PCA \n",
    "from sklearn.linear_model import LogisticRegression\n",
    "from sklearn.model_selection import KFold\n",
    "from sklearn.pipeline import Pipeline\n",
    "from sklearn.preprocessing import StandardScaler\n",
    "from sklearn.svm import SVC\n",
    "from sklearn.metrics import precision_recall_fscore_support"
   ]
  },
  {
   "cell_type": "code",
   "execution_count": 87,
   "metadata": {},
   "outputs": [],
   "source": [
    "ids = []\n",
    "with open('/home/thomas/git/datascience/MSDataSci/505/data/project_three/ids.txt') as id_file:\n",
    "    for line in id_file:\n",
    "        line = line.replace('.txt\\n','')\n",
    "        ids.append(line)\n",
    "\n",
    "iqs = []\n",
    "iqs_labels = []\n",
    "iqs_binary_labels = []\n",
    "iqs_ternary_labels = []\n",
    "matrices = []\n",
    "vectors = []\n",
    "data_dict = {}\n",
    "i = 0\n",
    "for id in ids:\n",
    "    data_dict[id] = {}\n",
    "    with open('/home/thomas/git/datascience/MSDataSci/505/data/project_three/dataset/{}.txt'.format(id)) as iq_file:\n",
    "        iq = float(iq_file.readline().replace('\\n',''))\n",
    "        iqs.append(np.array([iq]))\n",
    "        iqs_labels.append([iq,int(0 if iq<100 else 1),str('above average' if iq>110 else ('below average' if iq<90 else 'average'))])\n",
    "        iqs_binary_labels.append(0 if iq<100 else 1)\n",
    "        iqs_ternary_labels.append(2 if iq>110 else (0 if iq<90 else 1))\n",
    "        data_dict[id]['iq'] = [iq,int(0 if iq<100 else 1),str('above average' if iq>110 else ('below average' if iq<90 else 'average'))]\n",
    "    \n",
    "    matrix = np.genfromtxt('/home/thomas/git/datascience/MSDataSci/505/data/project_three/dataset/{}.csv'.format(id),delimiter=',') \n",
    "    vector = np.array([np.array(np.genfromtxt('/home/thomas/git/datascience/MSDataSci/505/data/project_three/dataset/{}_vec.csv'.format(id),delimiter=','))])\n",
    "\n",
    "    matrices.append(matrix)\n",
    "    vectors.append(vector[0])\n",
    "\n",
    "    data_dict[id]['pid'] = i\n",
    "    data_dict[id]['matrix'] = matrix\n",
    "    data_dict[id]['vector'] = vector\n",
    "\n",
    "    i += 1\n",
    "    \n",
    "iqs_binary_labels = np.array(iqs_binary_labels)\n",
    "    \n",
    "matrices = np.array(matrices)\n",
    "vects = np.array(vectors)\n",
    "iqs = np.array(iqs)\n",
    "iqs_binary_labels = np.array(iqs_binary_labels)\n",
    "iqs_ternary_labels = np.array(iqs_ternary_labels)\n",
    "regions = list(csv.reader(open(\"/home/thomas/git/datascience/MSDataSci/505/data/project_three/Atlas_regions.csv\")))"
   ]
  },
  {
   "cell_type": "code",
   "execution_count": 88,
   "metadata": {},
   "outputs": [],
   "source": [
    "# mean_log_dist = exp(mu+((sigma**2)/2))\n",
    "pca = PCA(n_components=10)\n",
    "pca.fit(vects)\n",
    "vectors = pca.fit_transform(vectors)"
   ]
  },
  {
   "cell_type": "code",
   "execution_count": 132,
   "metadata": {
    "scrolled": true
   },
   "outputs": [
    {
     "name": "stderr",
     "output_type": "stream",
     "text": [
      "/home/thomas/anaconda3/lib/python3.7/site-packages/sklearn/metrics/classification.py:1143: UndefinedMetricWarning: Precision and F-score are ill-defined and being set to 0.0 in labels with no predicted samples.\n",
      "  'precision', 'predicted', average, warn_for)\n",
      "/home/thomas/anaconda3/lib/python3.7/site-packages/sklearn/metrics/classification.py:1145: UndefinedMetricWarning: Recall and F-score are ill-defined and being set to 0.0 in labels with no true samples.\n",
      "  'recall', 'true', average, warn_for)\n",
      "/home/thomas/anaconda3/lib/python3.7/site-packages/sklearn/metrics/classification.py:1143: UndefinedMetricWarning: Precision and F-score are ill-defined and being set to 0.0 in labels with no predicted samples.\n",
      "  'precision', 'predicted', average, warn_for)\n",
      "/home/thomas/anaconda3/lib/python3.7/site-packages/sklearn/metrics/classification.py:1145: UndefinedMetricWarning: Recall and F-score are ill-defined and being set to 0.0 in labels with no true samples.\n",
      "  'recall', 'true', average, warn_for)\n",
      "/home/thomas/anaconda3/lib/python3.7/site-packages/sklearn/metrics/classification.py:1143: UndefinedMetricWarning: Precision and F-score are ill-defined and being set to 0.0 in labels with no predicted samples.\n",
      "  'precision', 'predicted', average, warn_for)\n",
      "/home/thomas/anaconda3/lib/python3.7/site-packages/sklearn/metrics/classification.py:1145: UndefinedMetricWarning: Recall and F-score are ill-defined and being set to 0.0 in labels with no true samples.\n",
      "  'recall', 'true', average, warn_for)\n"
     ]
    },
    {
     "name": "stdout",
     "output_type": "stream",
     "text": [
      "precision: [0. 0. 0.]\n",
      "recall: [0. 0. 0.]\n",
      "fscore: [0. 0. 0.]\n",
      "support: [ 8 30  0]\n",
      "Fold Score: 0.95\n",
      "-----------------------\n",
      "precision: [0. 0. 0.]\n",
      "recall: [0. 0. 0.]\n",
      "fscore: [0. 0. 0.]\n",
      "support: [ 7 32  0]\n",
      "Fold Score: 1.00\n",
      "-----------------------\n",
      "precision: [0. 0. 0.]\n",
      "recall: [0. 0. 0.]\n",
      "fscore: [0. 0. 0.]\n",
      "support: [ 7 32  0]\n",
      "Fold Score: 0.89\n",
      "-----------------------\n"
     ]
    },
    {
     "data": {
      "image/png": "[encoded data removed]",
      "text/plain": [
       "<Figure size 576x576 with 1 Axes>"
      ]
     },
     "metadata": {
      "needs_background": "light"
     },
     "output_type": "display_data"
    }
   ],
   "source": [
    "bin_pipeline = Pipeline([('feature_selection',PCA()),\n",
    "                     ('scaling',StandardScaler()),\n",
    "                     ('classifier',LogisticRegression(multi_class='auto',solver='liblinear'))])\n",
    "\n",
    "kf = KFold(n_splits=3,shuffle=True)\n",
    "kf.get_n_splits(vectors)\n",
    "\n",
    "for test_idx, train_idx in kf.split(vectors):\n",
    "    vectors_train, vectors_test = vectors[train_idx], vectors[test_idx]\n",
    "    iqs_binary_labels_train, iqs_binary_labels_test = iqs_binary_labels[train_idx], iqs_binary_labels[test_idx]\n",
    "\n",
    "    bin_pipeline.fit(vectors_train,iqs_binary_labels_train)\n",
    "    score = bin_pipeline.score(vectors_train,iqs_binary_labels_train)\n",
    "    bin_scores.append(score)\n",
    "    Yhat = pipeline.predict(vectors_test)\n",
    "    metrics = precision_recall_fscore_support(iqs_binary_labels_test,Yhat)\n",
    "    print('precision: {}'.format(str(metrics[0])))\n",
    "    print('recall: {}'.format(str(metrics[1])))\n",
    "    print('fscore: {}'.format(str(metrics[2])))\n",
    "    print('support: {}'.format(str(metrics[3])))\n",
    "    print('Fold Score: {0:0.2f}'.format(score))\n",
    "    print('-----------------------')\n",
    "    \n",
    "fig = plt.figure(figsize = (8,8))\n",
    "ax = fig.add_subplot(1,1,1)\n",
    "ax.set_xlabel('Principal Component 1', fontsize = 15)\n",
    "ax.set_ylabel('Principal Component 2', fontsize = 15)\n",
    "ax.set_title('2 component PCA', fontsize = 20)\n",
    "red_group = []\n",
    "green_group = []\n",
    "blue_group = []\n",
    "for i in range(len(iqs_ternary_labels_test)):\n",
    "    lab=iqs_ternary_labels_test[i]\n",
    "    if lab == 0:\n",
    "        red_group.append([vectors_test[i,0],vectors_test[i,1]])\n",
    "    else:\n",
    "        blue_group.append([vectors_test[i,0],vectors_test[i,1]])\n",
    "        \n",
    "ax.plot(np.array(red_group)[:,0], np.array(red_group)[:,1], marker='o', linestyle='', label='Below Average', color = 'r')\n",
    "ax.plot(np.array(blue_group)[:,0], np.array(blue_group)[:,1], marker='o', linestyle='', label='Above Average', color = 'b')\n",
    "ax.legend()\n",
    "ax.grid()"
   ]
  },
  {
   "cell_type": "code",
   "execution_count": 133,
   "metadata": {},
   "outputs": [
    {
     "name": "stderr",
     "output_type": "stream",
     "text": [
      "/home/thomas/anaconda3/lib/python3.7/site-packages/sklearn/metrics/classification.py:1143: UndefinedMetricWarning: Precision and F-score are ill-defined and being set to 0.0 in labels with no predicted samples.\n",
      "  'precision', 'predicted', average, warn_for)\n",
      "/home/thomas/anaconda3/lib/python3.7/site-packages/sklearn/metrics/classification.py:1143: UndefinedMetricWarning: Precision and F-score are ill-defined and being set to 0.0 in labels with no predicted samples.\n",
      "  'precision', 'predicted', average, warn_for)\n"
     ]
    },
    {
     "name": "stdout",
     "output_type": "stream",
     "text": [
      "precision: [0.         0.         0.51724138]\n",
      "recall: [0. 0. 1.]\n",
      "fscore: [0.         0.         0.68181818]\n",
      "support: [ 5  9 15]\n",
      "Fold Score: 0.76\n",
      "precision: [0.         0.         0.62068966]\n",
      "recall: [0. 0. 1.]\n",
      "fscore: [0.         0.         0.76595745]\n",
      "support: [ 1 10 18]\n",
      "Fold Score: 0.86\n"
     ]
    },
    {
     "data": {
      "image/png": "[encoded data removed]",
      "text/plain": [
       "<Figure size 576x576 with 1 Axes>"
      ]
     },
     "metadata": {
      "needs_background": "light"
     },
     "output_type": "display_data"
    }
   ],
   "source": [
    "ter_pipeline = Pipeline([('feature_selection',PCA()),\n",
    "                         ('scaling',StandardScaler()),\n",
    "                         ('classifier',SVC())])\n",
    "\n",
    "kf = KFold(n_splits=2,shuffle=True)\n",
    "kf.get_n_splits(vectors)\n",
    "\n",
    "for test_idx, train_idx in kf.split(vectors):\n",
    "    vectors_train, vectors_test = vectors[train_idx], vectors[test_idx]\n",
    "    iqs_ternary_labels_train, iqs_ternary_labels_test = iqs_ternary_labels[train_idx], iqs_ternary_labels[test_idx]\n",
    "\n",
    "    ter_pipeline.fit(vectors_train,iqs_ternary_labels_train)\n",
    "    score = ter_pipeline.score(vectors_train,iqs_ternary_labels_train)\n",
    "    bin_scores.append(score)\n",
    "    Yhat = pipeline.predict(vectors_test)\n",
    "    metrics = precision_recall_fscore_support(iqs_ternary_labels_test,Yhat)\n",
    "    print('precision: {}'.format(str(metrics[0])))\n",
    "    print('recall: {}'.format(str(metrics[1])))\n",
    "    print('fscore: {}'.format(str(metrics[2])))\n",
    "    print('support: {}'.format(str(metrics[3])))\n",
    "    print('Fold Score: {0:0.2f}'.format(score))\n",
    "\n",
    "    \n",
    "fig = plt.figure(figsize = (8,8))\n",
    "ax = fig.add_subplot(1,1,1)\n",
    "ax.set_xlabel('Principal Component 1', fontsize = 15)\n",
    "ax.set_ylabel('Principal Component 2', fontsize = 15)\n",
    "ax.set_title('2 component PCA', fontsize = 20)\n",
    "red_group = []\n",
    "green_group = []\n",
    "blue_group = []\n",
    "for i in range(len(iqs_ternary_labels_test)):\n",
    "    lab=iqs_ternary_labels_test[i]\n",
    "    if lab == 0:\n",
    "        red_group.append([vectors_test[i,0],vectors_test[i,1]])\n",
    "    elif lab == 1:\n",
    "        green_group.append([vectors_test[i,0],vectors_test[i,1]])\n",
    "    else:\n",
    "        blue_group.append([vectors_test[i,0],vectors_test[i,1]])\n",
    "        \n",
    "ax.plot(np.array(red_group)[:,0], np.array(red_group)[:,1], marker='o', linestyle='', label='Below Average', color = 'r')\n",
    "ax.plot(np.array(green_group)[:,0], np.array(green_group)[:,1], marker='o', linestyle='', label='Average', color = 'g')\n",
    "ax.plot(np.array(blue_group)[:,0], np.array(blue_group)[:,1], marker='o', linestyle='', label='Above Average', color = 'b')\n",
    "ax.legend()\n",
    "ax.grid()"
   ]
  },
  {
   "cell_type": "code",
   "execution_count": 91,
   "metadata": {},
   "outputs": [
    {
     "name": "stdout",
     "output_type": "stream",
     "text": [
      "MSE: 96.874\n",
      "MAE: 7.726\n",
      "R: -0.230\n",
      "Explained Variance: 0.053\n",
      "================\n",
      "MSE: 110.488\n",
      "MAE: 8.639\n",
      "R: 0.391\n",
      "Explained Variance: 0.153\n",
      "================\n",
      "MSE: 286.837\n",
      "MAE: 13.638\n",
      "R: -0.359\n",
      "Explained Variance: 0.129\n",
      "================\n",
      "MSE: 208.615\n",
      "MAE: 11.801\n",
      "R: 0.304\n",
      "Explained Variance: 0.092\n",
      "================\n",
      "MSE: 374.863\n",
      "MAE: 15.611\n",
      "R: -0.112\n",
      "Explained Variance: 0.013\n",
      "================\n",
      "MSE: 207.681\n",
      "MAE: 12.584\n",
      "R: 0.133\n",
      "Explained Variance: 0.018\n",
      "================\n",
      "MSE: 230.700\n",
      "MAE: 12.610\n",
      "R: 0.084\n",
      "Explained Variance: 0.007\n",
      "================\n",
      "\n",
      "Fold R-squared scores mean: 0.06635144437164484 and stdev: 0.05486143898826571\n"
     ]
    }
   ],
   "source": [
    "\n",
    "lin_reg_scores = []\n",
    "kf = KFold(n_splits=7,shuffle=True)\n",
    "for train_index, test_index in kf.split(vectors,iqs):\n",
    "\n",
    "    vectors_train, vectors_test = vectors[train_index], vectors[test_index]\n",
    "    iqs_train, iqs_test = iqs[train_index], iqs[test_index]\n",
    "\n",
    "    linreg = linear_model.LinearRegression()\n",
    "    linreg.fit(vectors_train,iqs_train)\n",
    "    Yhat = linreg.predict(vectors_test)\n",
    "\n",
    "    # plt.hist(vectors[:,0],bins=10)\n",
    "    # plt.hist(new_columns[8],bins=10)\n",
    "    # plt.show()\n",
    "\n",
    "    # plt.boxplot(vectors[:,0:50])\n",
    "\n",
    "    # plt.boxplot(vectors[:,51:100])\n",
    "    # plt.show()\n",
    "    R_val = (pearsonr(iqs_test, Yhat)[0])\n",
    "    MSE = mean_squared_error(iqs_test, Yhat)\n",
    "    MAE = mean_absolute_error(iqs_test, Yhat)\n",
    "    print('MSE: {0:0.3f}'.format(MSE))\n",
    "    print('MAE: {0:0.3f}'.format(MAE))\n",
    "    print('R: {0:0.3f}'.format(float(R_val)))\n",
    "    print('Explained Variance: {0:0.3f}'.format(float(R_val)**2))\n",
    "    print('================')\n",
    "    \n",
    "    lin_reg_scores.append(R_val[0]**2)\n",
    "print('\\nFold R-squared scores mean: {} and stdev: {}'.format(np.mean(lin_reg_scores),np.std(lin_reg_scores)))    \n",
    "\n",
    "# plt.hist(scores,bins=6)\n",
    "# plt.show()\n"
   ]
  },
  {
   "cell_type": "code",
   "execution_count": null,
   "metadata": {},
   "outputs": [],
   "source": []
  }
 ],
 "metadata": {
  "kernelspec": {
   "display_name": "Python 3",
   "language": "python",
   "name": "python3"
  },
  "language_info": {
   "codemirror_mode": {
    "name": "ipython",
    "version": 3
   },
   "file_extension": ".py",
   "mimetype": "text/x-python",
   "name": "python",
   "nbconvert_exporter": "python",
   "pygments_lexer": "ipython3",
   "version": "3.7.3"
  }
 },
 "nbformat": 4,
 "nbformat_minor": 2
}
