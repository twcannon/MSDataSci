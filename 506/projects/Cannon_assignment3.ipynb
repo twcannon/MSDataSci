{
 "cells": [
  {
   "cell_type": "markdown",
   "metadata": {},
   "source": [
    "# Data 506\n",
    "## Assignment #3"
   ]
  },
  {
   "cell_type": "markdown",
   "metadata": {},
   "source": [
    "### Q1)\n",
    "#### a)"
   ]
  },
  {
   "cell_type": "code",
   "execution_count": 41,
   "metadata": {},
   "outputs": [],
   "source": [
    "#import needed libraries\n",
    "import numpy as np\n",
    "from sklearn.linear_model import LinearRegression\n",
    "\n",
    "# load the data file\n",
    "data = np.genfromtxt('./D3.csv', delimiter = ',')"
   ]
  },
  {
   "cell_type": "code",
   "execution_count": 42,
   "metadata": {},
   "outputs": [],
   "source": [
    "# parse the data\n",
    "X = data[:,0]\n",
    "Y = data[:,3]\n",
    "\n",
    "# calculate necessary values for linear regression\n",
    "avg_x = np.mean(X)\n",
    "avg_y = np.mean(Y)\n",
    "\n",
    "x_c = X - avg_x\n",
    "y_c = Y - avg_y\n",
    "\n",
    "# calculate the slope and intercept\n",
    "slope = np.dot(x_c,y_c)/np.dot(x_c,x_c)\n",
    "intercept = avg_y - (slope * avg_x)\n",
    "\n",
    "# apply the model to a new dataset\n",
    "new_x = np.array([0.3, 0.5, 0.8])\n",
    "pred_y = slope*new_x + intercept"
   ]
  },
  {
   "cell_type": "code",
   "execution_count": 43,
   "metadata": {},
   "outputs": [
    {
     "name": "stdout",
     "output_type": "stream",
     "text": [
      "The linear model is:\n",
      "y = 2.0482891375099084x + -0.1611543552570185\n",
      "--------------------------\n",
      "For the x values:\n",
      "[0.3 0.5 0.8]\n",
      "The predicted y values are:\n",
      "[0.45333239 0.86299021 1.47747695]\n"
     ]
    }
   ],
   "source": [
    "# print Q1) a) results\n",
    "print('The linear model is:')\n",
    "print('y = {}x + {}'.format(slope,intercept))\n",
    "print('--------------------------')\n",
    "print('For the x values:')\n",
    "print(new_x)\n",
    "print('The predicted y values are:')\n",
    "print(pred_y)"
   ]
  },
  {
   "cell_type": "markdown",
   "metadata": {},
   "source": [
    "### Q1)\n",
    "#### b)"
   ]
  },
  {
   "cell_type": "code",
   "execution_count": 44,
   "metadata": {},
   "outputs": [],
   "source": [
    "# init partitions array and index array\n",
    "partitions = []\n",
    "index = np.arange(0,100)\n",
    "np.random.shuffle(index)\n",
    "\n",
    "# create partitions off of a shuffled index array\n",
    "partitions.append(index[0:33])\n",
    "partitions.append(index[34:66])\n",
    "partitions.append(index[67:100])"
   ]
  },
  {
   "cell_type": "code",
   "execution_count": 45,
   "metadata": {},
   "outputs": [],
   "source": [
    "# init arrays to capture the fit coefficients from each partition\n",
    "poly_fit2_array = []\n",
    "poly_fit3_array = []\n",
    "poly_fit4_array = []\n",
    "\n",
    "# loop through partitions and fit the data\n",
    "for part in partitions:\n",
    "    # init the X and Y training and test data\n",
    "    X_test = [X[i] for i in part]\n",
    "    Y_test = [Y[i] for i in part]\n",
    "    X_train = np.delete(X,[i for i in part])\n",
    "    Y_train = np.delete(Y,[i for i in part])\n",
    "\n",
    "    # create the polynomial fits\n",
    "    poly_fit_2 = np.polyfit(X_train,Y_train,2)\n",
    "    poly_fit_3 = np.polyfit(X_train,Y_train,3)\n",
    "    poly_fit_4 = np.polyfit(X_train,Y_train,4)\n",
    "\n",
    "    # append the polynomial fit coefficients to the array for later\n",
    "    poly_fit2_array.append(poly_fit_2)\n",
    "    poly_fit3_array.append(poly_fit_3)\n",
    "    poly_fit4_array.append(poly_fit_4)\n",
    "\n",
    "# average the results for each order polynomial fit\n",
    "poly_fit_2_avg = np.mean(poly_fit2_array, axis=0)\n",
    "poly_fit_3_avg = np.mean(poly_fit3_array, axis=0)\n",
    "poly_fit_4_avg = np.mean(poly_fit4_array, axis=0)"
   ]
  },
  {
   "cell_type": "code",
   "execution_count": 46,
   "metadata": {},
   "outputs": [
    {
     "name": "stdout",
     "output_type": "stream",
     "text": [
      "Using 33% holdouts with 3 folds\n",
      "--------------------------\n",
      "The total folds average of the coefficients for a 2nd order polynomial are (beginning with the highest order):\n",
      "[1.65661662 0.24570062 0.19632911]\n",
      "The total folds average of the coefficients for a 3rd order polynomial are (beginning with the highest order):\n",
      "[ 1.39787847 -0.55897894  1.20905763  0.09770094]\n",
      "The total folds average of the coefficients for a 4th order polynomial are (beginning with the highest order):\n",
      "[-0.01900558  1.44393518 -0.60448648  1.22960804  0.09467231]\n",
      "--------------------------\n"
     ]
    }
   ],
   "source": [
    "# print the polynomial fit results\n",
    "print('Using 33% holdouts with 3 folds')\n",
    "print('--------------------------')\n",
    "print('The total folds average of the coefficients for a 2nd order polynomial are (beginning with the highest order):')\n",
    "print(poly_fit_2_avg)\n",
    "print('The total folds average of the coefficients for a 3rd order polynomial are (beginning with the highest order):')\n",
    "print(poly_fit_3_avg)\n",
    "print('The total folds average of the coefficients for a 4th order polynomial are (beginning with the highest order):')\n",
    "print(poly_fit_4_avg)\n",
    "print('--------------------------')"
   ]
  },
  {
   "cell_type": "code",
   "execution_count": 47,
   "metadata": {},
   "outputs": [],
   "source": [
    "# calculate predicted values with the polynomial models\n",
    "new_y_2 = poly_fit_2_avg[0]*(new_x**2) + poly_fit_2_avg[1]*new_x + poly_fit_2_avg[2]\n",
    "new_y_3 = poly_fit_3_avg[0]*(new_x**3) + poly_fit_3_avg[1]*(new_x**2) + poly_fit_3_avg[2]*new_x + poly_fit_3_avg[3]\n",
    "new_y_4 = poly_fit_4_avg[0]*(new_x**4) + poly_fit_4_avg[1]*(new_x**3) + poly_fit_4_avg[2]*(new_x**2) + poly_fit_4_avg[3]*new_x + poly_fit_4_avg[4]"
   ]
  },
  {
   "cell_type": "code",
   "execution_count": 48,
   "metadata": {},
   "outputs": [
    {
     "name": "stdout",
     "output_type": "stream",
     "text": [
      "For the x values:\n",
      "[0.3 0.5 0.8]\n",
      "The predicted y values for a 2nd order polynomial are:\n",
      "[0.41913479 0.73333357 1.45312424]\n",
      "The predicted y values for a 3rd order polynomial are:\n",
      "[0.44785284 0.73721983 1.4229143 ]\n",
      "The predicted y values for a 4th order polynomial are:\n",
      "[0.44798325 0.73765876 1.42299752]\n"
     ]
    }
   ],
   "source": [
    "# print the calculate value results\n",
    "print('For the x values:')\n",
    "print(new_x)\n",
    "print('The predicted y values for a 2nd order polynomial are:')\n",
    "print(new_y_2)\n",
    "print('The predicted y values for a 3rd order polynomial are:')\n",
    "print(new_y_3)\n",
    "print('The predicted y values for a 4th order polynomial are:')\n",
    "print(new_y_4)"
   ]
  },
  {
   "cell_type": "markdown",
   "metadata": {},
   "source": [
    "### Q2)"
   ]
  },
  {
   "cell_type": "code",
   "execution_count": 49,
   "metadata": {},
   "outputs": [],
   "source": [
    "# create data for testing and training of multiple linear regression\n",
    "np.random.shuffle(data)\n",
    "\n",
    "test_data = data[0:20]\n",
    "train_data = data[21:]\n",
    "\n",
    "all_x_test_data = test_data[:,0:3]\n",
    "all_x_train_data = train_data[:,0:3]\n",
    "\n",
    "y_test_data = test_data[:,3]\n",
    "y_train_data = train_data[:,3]"
   ]
  },
  {
   "cell_type": "code",
   "execution_count": 50,
   "metadata": {},
   "outputs": [
    {
     "data": {
      "text/plain": [
       "LinearRegression(copy_X=True, fit_intercept=True, n_jobs=None,\n",
       "         normalize=False)"
      ]
     },
     "execution_count": 50,
     "metadata": {},
     "output_type": "execute_result"
    }
   ],
   "source": [
    "# create a multiple linear regression model\n",
    "model = LinearRegression()\n",
    "model.fit(all_x_train_data,y_train_data)"
   ]
  },
  {
   "cell_type": "code",
   "execution_count": 51,
   "metadata": {},
   "outputs": [
    {
     "name": "stdout",
     "output_type": "stream",
     "text": [
      "with a single 20% holdout:\n",
      "r coefficients for the multiple linear model are: \n",
      "\tX1 2.300700017696724\n",
      "\tX2 -0.38691790103393103\n",
      "\tX3 0.16862719642004267\n",
      "--------------------------\n",
      "For the x values:\n",
      "[0.3, 0.4, 0.1]\n",
      "The predicted y value is:\n",
      "[0.41217549]\n"
     ]
    }
   ],
   "source": [
    "# print the model results\n",
    "print('with a single 20% holdout:')\n",
    "print('r coefficients for the multiple linear model are: \\n\\tX1 '+str(model.coef_[0])+'\\n\\tX2 '+str(model.coef_[1])+'\\n\\tX3 '+str(model.coef_[2]))\n",
    "\n",
    "test_vals = [0.3, 0.4, 0.1]\n",
    "Yhat = model.predict([test_vals])\n",
    "print('--------------------------')\n",
    "print('For the x values:')\n",
    "print(test_vals)\n",
    "print('The predicted y value is:')\n",
    "print(Yhat)"
   ]
  }
 ],
 "metadata": {
  "kernelspec": {
   "display_name": "Python 3",
   "language": "python",
   "name": "python3"
  },
  "language_info": {
   "codemirror_mode": {
    "name": "ipython",
    "version": 3
   },
   "file_extension": ".py",
   "mimetype": "text/x-python",
   "name": "python",
   "nbconvert_exporter": "python",
   "pygments_lexer": "ipython3",
   "version": "3.7.3"
  }
 },
 "nbformat": 4,
 "nbformat_minor": 2
}
