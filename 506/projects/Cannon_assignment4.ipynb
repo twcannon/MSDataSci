{
 "cells": [
  {
   "cell_type": "code",
   "execution_count": 30,
   "metadata": {},
   "outputs": [
    {
     "name": "stdout",
     "output_type": "stream",
     "text": [
      "The regularization coefficients from Lasso regression are: \n",
      "[ 0.         -3.80655974  0.70461999 -0.44437137  0.         -0.\n",
      "  1.41422802]\n",
      "The new regularized X = \n",
      "[[  8  -3   5   4]\n",
      " [ -2   4   8   2]\n",
      " [  9   6  -7  -5]\n",
      " [  6 -14  -5  -2]\n",
      " [ -2  11  -6   1]]\n",
      "---------------------------\n",
      "The coefficients of the OMP sparse model are:\n",
      "X0 = -4.657157534246576\n",
      "X1 = 0.0\n",
      "X2 = 0.0\n",
      "X3 = 0.0\n"
     ]
    }
   ],
   "source": [
    "import numpy as np\n",
    "from sklearn.linear_model import OrthogonalMatchingPursuit, Lasso\n",
    "\n",
    "x=np.array([[1,8,-3,5,4,-9,4],[1,-2,4,8,-2,-3,2],[1,9,6,-7,4,-5,-5],[1,6,-14,-5,-3,9,-2],[1,-2,11,-6,3,-5,1]])\n",
    "y=np.array([[-32.21],[6.10],[-37.62],[-36.60],[16.75]])\n",
    "\n",
    "clf = Lasso(alpha=0.5)\n",
    "clf.fit(x,y)\n",
    "\n",
    "print('The regularization coefficients from Lasso regression are: \\n' + str(clf.coef_))\n",
    "\n",
    "index=[]\n",
    "for i in range(len(clf.coef_)):\n",
    "    if clf.coef_[i] != 0:\n",
    "        index.append(True)\n",
    "    else:\n",
    "        index.append(False)\n",
    "x_l = x[:,index]\n",
    "print('The new regularized X = \\n' + str(x_l))\n",
    "\n",
    "print('---------------------------')\n",
    "omp = OrthogonalMatchingPursuit().fit(x_l, y)\n",
    "coef = omp.coef_\n",
    "\n",
    "print('The coefficients of the OMP sparse model are:')\n",
    "for i in range(len(coef)):\n",
    "    print('X{} = {}'.format(i,coef[i]))"
   ]
  },
  {
   "cell_type": "code",
   "execution_count": 31,
   "metadata": {},
   "outputs": [
    {
     "name": "stdout",
     "output_type": "stream",
     "text": [
      "Q2)\n",
      "For gamma = 0.05\n",
      "Starting values of x and y:  \t x_0 = 0    y_0 = 2\n",
      "For iteration = 1: \t\t x_1 = 0.7000000000000001    y_1 = 1.8\n",
      "For iteration = 2: \t\t x_2 = 1.31    y_2 = 1.6\n",
      "For iteration = 3: \t\t x_3 = 1.839    y_3 = 1.4000000000000001\n",
      "For iteration = 4: \t\t x_4 = 2.2951    y_4 = 1.2000000000000002\n",
      "For iteration = 5: \t\t x_5 = 2.6855900000000004    y_5 = 1.0000000000000002\n",
      "For iteration = 6: \t\t x_6 = 3.0170310000000002    y_6 = 0.8000000000000003\n",
      "For iteration = 7: \t\t x_7 = 3.2953279    y_7 = 0.6000000000000003\n",
      "For iteration = 8: \t\t x_8 = 3.5257951100000002    y_8 = 0.4000000000000003\n",
      "For iteration = 9: \t\t x_9 = 3.713215599    y_9 = 0.2000000000000003\n",
      "For iteration = 10: \t\t x_10 = 3.8618940391    y_10 = 2.7755575615628914e-16\n",
      "---------------------------\n",
      "For gamma = 0.5\n",
      "Starting values of x and y:  \t x_0 = 0    y_0 = 2\n",
      "For iteration = 1: \t\t x_1 = 7.0    y_1 = 0.0\n",
      "For iteration = 2: \t\t x_2 = 5.0    y_2 = -2.0\n",
      "For iteration = 3: \t\t x_3 = 3.0    y_3 = -4.0\n",
      "For iteration = 4: \t\t x_4 = 1.0    y_4 = -6.0\n",
      "For iteration = 5: \t\t x_5 = -1.0    y_5 = -8.0\n",
      "For iteration = 6: \t\t x_6 = -3.0    y_6 = -10.0\n",
      "For iteration = 7: \t\t x_7 = -5.0    y_7 = -12.0\n",
      "For iteration = 8: \t\t x_8 = -7.0    y_8 = -14.0\n",
      "For iteration = 9: \t\t x_9 = -9.0    y_9 = -16.0\n",
      "For iteration = 10: \t\t x_10 = -11.0    y_10 = -18.0\n"
     ]
    }
   ],
   "source": [
    "print('Q2)')\n",
    "\n",
    "def grad_desc(gamma):\n",
    "    # dfdx (found by hand)\n",
    "    dfdx = lambda x,y: 2*x-2*y-10\n",
    "    # dfdy (found by hand)\n",
    "    dfdy = lambda x,y: 2*y-2*x+4\n",
    "\n",
    "    x_0 = 0\n",
    "    y_0 = 2\n",
    "    i = 0\n",
    "    i_max = 10\n",
    "    print('For gamma = {}'.format(gamma))\n",
    "    print('Starting values of x and y:  \\t x_0 = {}    y_0 = {}'.format(x_0,y_0))\n",
    "    while i < i_max:\n",
    "        x_prev = x_0\n",
    "        y_prev = y_0\n",
    "        x_0 = x_0 - gamma*dfdx(x_prev,y_prev)\n",
    "        y_0 = y_0 - gamma*dfdy(y_prev,y_prev)\n",
    "\n",
    "        i += 1\n",
    "        if i > i_max:\n",
    "            break\n",
    "\n",
    "        # print('After iteration {}, the values of x and y are: \\n'.format(i)) \n",
    "        print('For iteration = {}: \\t\\t x_{} = {}    y_{} = {}'.format(i,i,x_0,i,y_0))\n",
    "\n",
    "grad_desc(0.05)\n",
    "print('---------------------------')\n",
    "grad_desc(0.5)"
   ]
  },
  {
   "cell_type": "code",
   "execution_count": 37,
   "metadata": {},
   "outputs": [
    {
     "name": "stdout",
     "output_type": "stream",
     "text": [
      "Q3)\n",
      "Using an n of 0.7, we are returned 2 dimensions from PCA\n",
      "with an explained variance of [7.77297941 3.7431148 ]\n",
      "---------------------------\n"
     ]
    }
   ],
   "source": [
    "print('Q3)')\n",
    "from sklearn.decomposition import PCA\n",
    "\n",
    "data = np.genfromtxt('/home/thomas/git/datascience/MSDataSci/506/data/A.csv', delimiter = ',')\n",
    "\n",
    "n = .70\n",
    "pca = PCA(n)\n",
    "\n",
    "pca.fit(data)\n",
    "print('Using an n of {}, we are returned {} dimensions from PCA'.format(n,pca.n_components_))\n",
    "print('with an explained variance of {}'.format(pca.explained_variance_))\n",
    "print('and singular values of {}'.format(pca.singular_values_))\n",
    "print('---------------------------')\n",
    "\n",
    "# print(pca.__dict__)"
   ]
  },
  {
   "cell_type": "code",
   "execution_count": null,
   "metadata": {},
   "outputs": [],
   "source": []
  }
 ],
 "metadata": {
  "kernelspec": {
   "display_name": "Python 3",
   "language": "python",
   "name": "python3"
  },
  "language_info": {
   "codemirror_mode": {
    "name": "ipython",
    "version": 3
   },
   "file_extension": ".py",
   "mimetype": "text/x-python",
   "name": "python",
   "nbconvert_exporter": "python",
   "pygments_lexer": "ipython3",
   "version": "3.7.3"
  }
 },
 "nbformat": 4,
 "nbformat_minor": 2
}
