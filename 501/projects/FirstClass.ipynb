{
 "cells": [
  {
   "cell_type": "markdown",
   "metadata": {},
   "source": [
    "# First Class\n",
    "\n",
    "* read in the data "
   ]
  },
  {
   "cell_type": "code",
   "execution_count": 1,
   "metadata": {},
   "outputs": [],
   "source": [
    "import numpy as np\n",
    "import matplotlib.pyplot as plt"
   ]
  },
  {
   "cell_type": "code",
   "execution_count": 3,
   "metadata": {},
   "outputs": [],
   "source": [
    "Labeled_Data = np.genfromtxt('../data/first_class/labeled_data.csv', delimiter = ',')"
   ]
  },
  {
   "cell_type": "code",
   "execution_count": 4,
   "metadata": {
    "scrolled": true
   },
   "outputs": [
    {
     "name": "stdout",
     "output_type": "stream",
     "text": [
      "[[ 0.77442   1.5899    0.      ]\n",
      " [ 3.7989    4.4622    1.      ]\n",
      " [ 2.2764    4.4967    1.      ]\n",
      " [-0.49159  -0.40881   0.      ]\n",
      " [-0.42238   1.1165    0.      ]\n",
      " [ 3.3505    4.2222    0.      ]\n",
      " [ 0.97804   2.4484    1.      ]\n",
      " [ 2.3428    4.6153    1.      ]\n",
      " [ 2.2629    3.8699    1.      ]\n",
      " [ 1.8813    2.7374    1.      ]\n",
      " [ 1.1873    3.1864    0.      ]\n",
      " [ 3.0923    4.1962    1.      ]\n",
      " [ 0.91751   3.9788    0.      ]\n",
      " [ 3.5954    2.1299    1.      ]\n",
      " [ 2.1174    1.7795    0.      ]\n",
      " [ 0.80758  -0.013185  0.      ]\n",
      " [ 0.19553   2.329     0.      ]\n",
      " [ 1.479     2.668     1.      ]\n",
      " [-0.93302   1.6512    0.      ]\n",
      " [ 0.23515   2.1353    0.      ]\n",
      " [ 0.56103   1.5031    0.      ]\n",
      " [ 3.8671    5.9821    1.      ]\n",
      " [ 2.3961    4.1179    1.      ]\n",
      " [ 1.9201    6.1103    1.      ]\n",
      " [ 4.7298    5.3919    1.      ]\n",
      " [-0.40227   1.8964    0.      ]\n",
      " [ 1.7481   -0.70809   0.      ]\n",
      " [ 1.8886    2.8855    0.      ]\n",
      " [ 3.5855    3.3232    0.      ]\n",
      " [-0.16584   1.3273    0.      ]\n",
      " [ 2.1006    5.8919    0.      ]\n",
      " [ 1.2157    2.9811    0.      ]\n",
      " [ 0.82262   1.2814    0.      ]\n",
      " [ 3.2296    2.5862    1.      ]\n",
      " [ 3.9421    6.3441    1.      ]\n",
      " [ 3.4013    5.1345    1.      ]\n",
      " [ 2.6925    3.0828    1.      ]\n",
      " [ 3.3005    2.0277    1.      ]\n",
      " [ 3.9105    5.3587    1.      ]\n",
      " [ 2.013     0.6048    1.      ]\n",
      " [ 2.3914    4.8651    1.      ]\n",
      " [-0.061582  1.2357    0.      ]\n",
      " [ 3.1992    5.3576    1.      ]\n",
      " [ 3.44      4.2074    1.      ]\n",
      " [ 1.7223    1.9602    0.      ]\n",
      " [ 2.5877    2.3508    0.      ]\n",
      " [ 3.7596    3.9387    1.      ]\n",
      " [ 2.3831    2.779     1.      ]\n",
      " [ 2.6269    5.1745    1.      ]\n",
      " [ 1.0326    0.89458   0.      ]\n",
      " [ 0.3844   -0.069877  0.      ]\n",
      " [ 1.6966    3.7229    0.      ]\n",
      " [ 1.2916    2.7477    0.      ]\n",
      " [ 4.8089    4.3247    1.      ]\n",
      " [ 1.2501    3.8538    1.      ]\n",
      " [ 1.1978    0.97617   0.      ]\n",
      " [ 0.80395   3.0423    0.      ]\n",
      " [ 2.802     2.8179    1.      ]\n",
      " [ 2.5442    4.9621    0.      ]\n",
      " [ 3.5712    4.4912    1.      ]\n",
      " [-0.14795   1.1678    0.      ]\n",
      " [ 2.9372    3.389     1.      ]\n",
      " [ 1.3714    3.9734    0.      ]\n",
      " [ 2.5326    2.5901    0.      ]\n",
      " [ 0.2577    0.48394   0.      ]\n",
      " [-0.79468   1.9297    0.      ]\n",
      " [ 1.0859    2.4498    0.      ]\n",
      " [ 1.4882    2.4871    0.      ]\n",
      " [ 1.1049    1.7646    0.      ]\n",
      " [ 3.8155    6.3365    1.      ]\n",
      " [ 0.13635   2.2561    0.      ]\n",
      " [ 3.1769    4.6356    1.      ]\n",
      " [ 2.4193    0.9083    0.      ]\n",
      " [ 3.3277    4.8514    1.      ]\n",
      " [ 3.6125    3.9124    1.      ]\n",
      " [ 1.0774    2.0122    0.      ]\n",
      " [ 2.9451    5.4855    1.      ]\n",
      " [ 3.2748    3.2555    1.      ]\n",
      " [ 0.99315   3.3442    0.      ]\n",
      " [ 2.3593    3.132     1.      ]\n",
      " [ 3.6011    5.4437    1.      ]\n",
      " [ 3.1202    6.3702    1.      ]\n",
      " [ 1.5525    0.79447   0.      ]\n",
      " [ 1.8351    0.93905   0.      ]\n",
      " [ 3.4128    2.5698    1.      ]\n",
      " [ 3.975     5.7716    1.      ]\n",
      " [ 2.3736    4.9734    1.      ]\n",
      " [-0.089064  1.0669    0.      ]\n",
      " [ 0.75628   3.5458    0.      ]\n",
      " [-0.21412   1.3469    0.      ]\n",
      " [ 2.8682    4.1246    1.      ]\n",
      " [ 0.23033   0.66993   0.      ]\n",
      " [ 2.0179    4.81      1.      ]\n",
      " [ 3.2495    3.4339    1.      ]\n",
      " [ 2.4067    3.227     1.      ]\n",
      " [ 0.33311   1.7344    0.      ]\n",
      " [-0.1135    0.38738   0.      ]\n",
      " [ 2.007     3.7371    1.      ]\n",
      " [ 4.0468    3.5179    1.      ]\n",
      " [ 2.7617    3.8621    1.      ]]\n"
     ]
    }
   ],
   "source": [
    "print(Labeled_Data)"
   ]
  },
  {
   "cell_type": "code",
   "execution_count": 5,
   "metadata": {},
   "outputs": [],
   "source": [
    "x   = Labeled_Data[:, [0]]\n",
    "y   = Labeled_Data[:, [1]]\n",
    "cat = Labeled_Data[:, [2]]"
   ]
  },
  {
   "cell_type": "code",
   "execution_count": 6,
   "metadata": {},
   "outputs": [
    {
     "data": {
      "text/plain": [
       "<matplotlib.collections.PathCollection at 0x7f052a033828>"
      ]
     },
     "execution_count": 6,
     "metadata": {},
     "output_type": "execute_result"
    },
    {
     "data": {
      "image/png": "[encoded data removed]",
      "text/plain": [
       "<Figure size 432x288 with 1 Axes>"
      ]
     },
     "metadata": {
      "needs_background": "light"
     },
     "output_type": "display_data"
    }
   ],
   "source": [
    "plt.scatter(x,y,c=cat,cmap='bwr')"
   ]
  },
  {
   "cell_type": "code",
   "execution_count": 7,
   "metadata": {},
   "outputs": [
    {
     "name": "stdout",
     "output_type": "stream",
     "text": [
      "x mean: 1.9673845399999998\n",
      "y mean: 3.06637358\n"
     ]
    }
   ],
   "source": [
    "print('x mean: ' + str(np.mean(x)))\n",
    "print('y mean: ' + str(np.mean(y)))"
   ]
  },
  {
   "cell_type": "code",
   "execution_count": 8,
   "metadata": {},
   "outputs": [
    {
     "name": "stdout",
     "output_type": "stream",
     "text": [
      "x stdev: 1.3714908509593449\n",
      "y stdev: 1.6910073392890772\n"
     ]
    }
   ],
   "source": [
    "print('x stdev: ' + str(np.std(x)))\n",
    "print('y stdev: ' + str(np.std(y)))"
   ]
  }
 ],
 "metadata": {
  "kernelspec": {
   "display_name": "Python 3",
   "language": "python",
   "name": "python3"
  },
  "language_info": {
   "codemirror_mode": {
    "name": "ipython",
    "version": 3
   },
   "file_extension": ".py",
   "mimetype": "text/x-python",
   "name": "python",
   "nbconvert_exporter": "python",
   "pygments_lexer": "ipython3",
   "version": "3.7.3"
  }
 },
 "nbformat": 4,
 "nbformat_minor": 2
}
