{
 "cells": [
  {
   "cell_type": "code",
   "execution_count": 184,
   "metadata": {},
   "outputs": [],
   "source": [
    "import csv\n",
    "import matplotlib.pyplot as plt\n",
    "import numpy as np\n",
    "from sklearn import linear_model\n",
    "from sklearn.decomposition import PCA \n",
    "from sklearn.feature_selection import VarianceThreshold,SelectFromModel\n",
    "from sklearn.linear_model import LogisticRegression,SGDClassifier,Lasso\n",
    "from sklearn.metrics import mean_squared_error, mean_absolute_error, confusion_matrix\n",
    "from sklearn.model_selection import StratifiedKFold,KFold\n",
    "from sklearn.pipeline import Pipeline\n",
    "from sklearn.preprocessing import StandardScaler,MinMaxScaler\n",
    "from sklearn.svm import SVC\n",
    "from scipy.stats import pearsonr\n",
    "\n",
    "import sys"
   ]
  },
  {
   "cell_type": "code",
   "execution_count": 185,
   "metadata": {},
   "outputs": [],
   "source": [
    "ids = []\n",
    "with open('/home/thomas/git/datascience/MSDataSci/505/data/project_three/ids.txt') as id_file:\n",
    "    for line in id_file:\n",
    "        line = line.replace('.txt\\n','')\n",
    "        ids.append(line)\n",
    "\n",
    "iqs = []\n",
    "iqs_labels = []\n",
    "iqs_binary_labels = []\n",
    "iqs_ternary_labels = []\n",
    "matrices = []\n",
    "vectors = []\n",
    "data_dict = {}\n",
    "i = 0\n",
    "for id in ids:\n",
    "    data_dict[id] = {}\n",
    "    with open('/home/thomas/git/datascience/MSDataSci/505/data/project_three/dataset/{}.txt'.format(id)) as iq_file:\n",
    "        iq = float(iq_file.readline().replace('\\n',''))\n",
    "        iqs.append(np.array([iq]))\n",
    "        iqs_labels.append([iq,int(0 if iq<100 else 1),str('above average' if iq>110 else ('below average' if iq<90 else 'average'))])\n",
    "        iqs_binary_labels.append(int(0 if iq<100 else 1))\n",
    "        iqs_ternary_labels.append(str('above average' if iq>110 else ('below average' if iq<90 else 'average')))\n",
    "        data_dict[id]['iq'] = [iq,int(0 if iq<100 else 1),str('above average' if iq>110 else ('below average' if iq<90 else 'average'))]\n",
    "    \n",
    "    matrix = np.genfromtxt('/home/thomas/git/datascience/MSDataSci/505/data/project_three/dataset/{}.csv'.format(id),delimiter=',') \n",
    "    vector = np.array([np.array(np.genfromtxt('/home/thomas/git/datascience/MSDataSci/505/data/project_three/dataset/{}_vec.csv'.format(id),delimiter=','))])\n",
    "\n",
    "    matrices.append(matrix)\n",
    "    vectors.append(vector[0])\n",
    "\n",
    "    data_dict[id]['pid'] = i\n",
    "    data_dict[id]['matrix'] = matrix\n",
    "    data_dict[id]['vector'] = vector\n",
    "\n",
    "    i += 1\n",
    "\n",
    "matrices = np.array(matrices)\n",
    "vectors = np.array(vectors)\n",
    "iqs = np.array(iqs)\n",
    "iqs_binary_labels = np.array(iqs_binary_labels)\n",
    "iqs_ternary_labels = np.array(iqs_ternary_labels)\n",
    "regions = list(csv.reader(open(\"/home/thomas/git/datascience/MSDataSci/505/data/project_three/Atlas_regions.csv\")))"
   ]
  },
  {
   "cell_type": "code",
   "execution_count": 186,
   "metadata": {},
   "outputs": [],
   "source": [
    "# mean_log_dist = exp(mu+((sigma**2)/2))\n",
    "pca = PCA(.8)\n",
    "pca.fit(vectors)\n",
    "vectors = pca.fit_transform(vectors)"
   ]
  },
  {
   "cell_type": "code",
   "execution_count": 195,
   "metadata": {},
   "outputs": [
    {
     "name": "stdout",
     "output_type": "stream",
     "text": [
      "scores mean: 0.5182710709702577 and stdev: 0.4817289290297423\n"
     ]
    }
   ],
   "source": [
    "log_reg_scores = []\n",
    "skf = StratifiedKFold(n_splits=2)\n",
    "for train_index, test_index in skf.split(vectors,iqs_binary_labels):\n",
    "    vectors_train, vectors_test = vectors[train_index], vectors[test_index]\n",
    "    iqs_binary_labels_train, iqs_binary_labels_test = iqs_binary_labels[train_index], iqs_binary_labels[test_index]\n",
    "\n",
    "    log_reg = linear_model.LogisticRegression(solver='lbfgs')\n",
    "    log_reg.fit(vectors_train,iqs_binary_labels_train)\n",
    "    Yhat = linreg.predict(vectors_test)\n",
    "    log_reg_scores.append(pearsonr(iqs_binary_labels_test, Yhat)[0]**2)\n",
    "print('scores mean: {} and stdev: {}'.format(np.mean(log_reg_scores),np.std(log_reg_scores)))"
   ]
  },
  {
   "cell_type": "code",
   "execution_count": 171,
   "metadata": {},
   "outputs": [
    {
     "name": "stdout",
     "output_type": "stream",
     "text": [
      "2 folds gives: scores mean: 0.007826899989106847 and stdev: 0.0006790404423904894\n",
      "3 folds gives: scores mean: 0.05168675509866808 and stdev: 0.01649307878129829\n",
      "4 folds gives: scores mean: 0.08861231628444285 and stdev: 0.05765217150604943\n",
      "5 folds gives: scores mean: 0.1643964035006689 and stdev: 0.0626281820672061\n",
      "6 folds gives: scores mean: 0.13243592125792789 and stdev: 0.13094325025420506\n",
      "7 folds gives: scores mean: 0.19469546550596917 and stdev: 0.15369280757157547\n",
      "8 folds gives: scores mean: 0.1745683225195132 and stdev: 0.1377724983797662\n",
      "9 folds gives: scores mean: 0.09748137749596603 and stdev: 0.11953066438914269\n",
      "10 folds gives: scores mean: 0.2247529626292654 and stdev: 0.2487607907823456\n",
      "11 folds gives: scores mean: 0.37217504839679133 and stdev: 0.3314968651082916\n",
      "12 folds gives: scores mean: 0.18924389233247785 and stdev: 0.15503544373479114\n",
      "13 folds gives: scores mean: 0.17181255221092584 and stdev: 0.20327893522885107\n",
      "14 folds gives: scores mean: 0.33637086471591504 and stdev: 0.25681242865185044\n",
      "15 folds gives: scores mean: 0.4049367739121052 and stdev: 0.28784460224709146\n",
      "16 folds gives: scores mean: 0.36906867106746005 and stdev: 0.3058536436366854\n",
      "17 folds gives: scores mean: 0.37265117632779104 and stdev: 0.2655654759871478\n",
      "18 folds gives: scores mean: 0.44732083626719604 and stdev: 0.35624874191169503\n"
     ]
    },
    {
     "data": {
      "text/plain": [
       "[<matplotlib.lines.Line2D at 0x7ff51366def0>]"
      ]
     },
     "execution_count": 171,
     "metadata": {},
     "output_type": "execute_result"
    },
    {
     "data": {
      "image/png": "[encoded data removed]",
      "text/plain": [
       "<Figure size 432x288 with 1 Axes>"
      ]
     },
     "metadata": {
      "needs_background": "light"
     },
     "output_type": "display_data"
    }
   ],
   "source": [
    "fold_test_x = []\n",
    "fold_test_means = []\n",
    "fold_test_stds = []\n",
    "for i in range(2,19):\n",
    "    kf = KFold(n_splits=i,shuffle=True)\n",
    "    scores = []\n",
    "    for train_index, test_index in kf.split(vectors,iqs):\n",
    "\n",
    "        vectors_train, vectors_test = vectors[train_index], vectors[test_index]\n",
    "        iqs_train, iqs_test = iqs[train_index], iqs[test_index]\n",
    "\n",
    "        linreg = linear_model.LinearRegression()\n",
    "        linreg.fit(vectors_train,iqs_train)\n",
    "        Yhat = linreg.predict(vectors_test)\n",
    "        scores.append((pearsonr(iqs_test, Yhat)[0]**2)[0])\n",
    "\n",
    "        # plt.hist(vectors[:,0],bins=10)\n",
    "        # plt.hist(new_columns[8],bins=10)\n",
    "        # plt.show()\n",
    "\n",
    "        # plt.boxplot(vectors[:,0:50])\n",
    "\n",
    "        # plt.boxplot(vectors[:,51:100])\n",
    "        # plt.show()\n",
    "\n",
    "    print('{} folds gives: scores mean: {} and stdev: {}'.format(i,np.mean(scores),np.std(scores)))\n",
    "    fold_test_means.append(np.mean(scores))\n",
    "    fold_test_x.append(i)\n",
    "    fold_test_stds.append(np.std(scores))\n",
    "\n",
    "plt.plot(fold_test_x,fold_test_means, color='red')\n",
    "plt.plot(fold_test_x,fold_test_stds, color='blue')\n",
    "\n",
    "# plt.hist(scores,bins=6)\n",
    "# plt.show()\n"
   ]
  },
  {
   "cell_type": "code",
   "execution_count": 110,
   "metadata": {},
   "outputs": [],
   "source": [
    "\n",
    "# sys.exit()\n",
    "\n",
    "\n",
    "\n",
    "\n",
    "\n",
    "\n",
    "# sys.exit('')\n",
    "\n",
    "\n",
    "# def graphdata(patientid):\n",
    "#     iq=data_dict[patientid]['iq']\n",
    "#     plt.figure(figsize = [10,10])\n",
    "#     plt.imshow(data_dict[patientid]['matrix'])\n",
    "#     plt.set_cmap('hot')\n",
    "#     plt.colorbar()\n",
    "#     plt.title( f\"IQ Score of {iq} \")\n",
    "#     plt.show()\n",
    "\n",
    "\n",
    "# graphdata('NS061')\n",
    "\n",
    "\n",
    "\n",
    "\n",
    "\n",
    "\n",
    "# pipe_steps = [  ('feature_engineering', [\n",
    "#                     ('VT', VarianceThreshold()),\n",
    "#                     ('PCA', PCA())]),\n",
    "#                 ('scaler', [\n",
    "#                     ('standard', StandardScaler()),\n",
    "#                     ('minmax', MinMaxScaler())]),\n",
    "#                 ('classifier', [\n",
    "#                     ('LR', LogisticRegression()),\n",
    "#                     ('SVC', SVC()),\n",
    "#                     ('SGD', SGDClassifier())])]\n",
    "\n",
    "# # Grid search parameters for our models\n",
    "# param_grid = {'LR': {'penalty': ['l1', 'l2']},\n",
    "#               'SVC': {'kernel': ['linear', 'poly', 'rbf', 'sigmoid']},\n",
    "#               'SGD': {'penalty': ['elasticnet'],\n",
    "#                       'l1_ratio': [0.1, 0.2, 0.3]}}\n",
    "\n",
    "# # Quality metric that we want to optimize\n",
    "# scoring='roc_auc'\n",
    "\n",
    "# # Setting cross-validations\n",
    "# grid_cv = StratifiedKFold(n_splits=5, shuffle=True, random_state=0)\n",
    "# eval_cv = StratifiedKFold(n_splits=5, shuffle=True, random_state=1)\n",
    "\n",
    "# # >>> anova_svm = Pipeline([('anova', anova_filter), ('svc', clf)])\n",
    "# # >>> # You can set the parameters using the names issued\n",
    "# # >>> # For instance, fit using a k of 10 in the SelectKBest\n",
    "# # >>> # and a parameter 'C' of the svm\n",
    "# # >>> anova_svm.set_params(anova__k=10, svc__C=.1).fit(X, y)"
   ]
  },
  {
   "cell_type": "code",
   "execution_count": null,
   "metadata": {},
   "outputs": [],
   "source": []
  }
 ],
 "metadata": {
  "kernelspec": {
   "display_name": "Python 3",
   "language": "python",
   "name": "python3"
  },
  "language_info": {
   "codemirror_mode": {
    "name": "ipython",
    "version": 3
   },
   "file_extension": ".py",
   "mimetype": "text/x-python",
   "name": "python",
   "nbconvert_exporter": "python",
   "pygments_lexer": "ipython3",
   "version": "3.7.3"
  }
 },
 "nbformat": 4,
 "nbformat_minor": 2
}
