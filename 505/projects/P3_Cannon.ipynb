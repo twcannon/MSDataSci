{
 "cells": [
  {
   "cell_type": "code",
   "execution_count": 123,
   "metadata": {},
   "outputs": [],
   "source": [
    "import csv\n",
    "import matplotlib.pyplot as plt\n",
    "import numpy as np\n",
    "from sklearn import linear_model\n",
    "from sklearn.decomposition import PCA \n",
    "from sklearn.feature_selection import VarianceThreshold,SelectFromModel\n",
    "from sklearn.linear_model import LogisticRegression,SGDClassifier,Lasso\n",
    "from sklearn.metrics import mean_squared_error, mean_absolute_error, confusion_matrix\n",
    "from sklearn.model_selection import StratifiedKFold,KFold\n",
    "from sklearn.pipeline import Pipeline\n",
    "from sklearn.preprocessing import StandardScaler,MinMaxScaler\n",
    "from sklearn.svm import SVC\n",
    "from scipy.stats import pearsonr\n",
    "\n",
    "import sys"
   ]
  },
  {
   "cell_type": "code",
   "execution_count": 124,
   "metadata": {},
   "outputs": [],
   "source": [
    "ids = []\n",
    "with open('/home/thomas/git/datascience/MSDataSci/505/data/project_three/ids.txt') as id_file:\n",
    "    for line in id_file:\n",
    "        line = line.replace('.txt\\n','')\n",
    "        ids.append(line)\n",
    "\n",
    "iqs = []\n",
    "iqs_labels = []\n",
    "iqs_binary_labels = []\n",
    "iqs_ternary_labels = []\n",
    "matrices = []\n",
    "vectors = []\n",
    "data_dict = {}\n",
    "i = 0\n",
    "for id in ids:\n",
    "    data_dict[id] = {}\n",
    "    with open('/home/thomas/git/datascience/MSDataSci/505/data/project_three/dataset/{}.txt'.format(id)) as iq_file:\n",
    "        iq = float(iq_file.readline().replace('\\n',''))\n",
    "        iqs.append(np.array([iq]))\n",
    "        iqs_labels.append([iq,int(0 if iq<100 else 1),str('above average' if iq>110 else ('below average' if iq<90 else 'average'))])\n",
    "        iqs_binary_labels.append(int(0 if iq<100 else 1))\n",
    "        iqs_ternary_labels.append(str('above average' if iq>110 else ('below average' if iq<90 else 'average')))\n",
    "        data_dict[id]['iq'] = [iq,int(0 if iq<100 else 1),str('above average' if iq>110 else ('below average' if iq<90 else 'average'))]\n",
    "    \n",
    "    matrix = np.genfromtxt('/home/thomas/git/datascience/MSDataSci/505/data/project_three/dataset/{}.csv'.format(id),delimiter=',') \n",
    "    vector = np.array([np.array(np.genfromtxt('/home/thomas/git/datascience/MSDataSci/505/data/project_three/dataset/{}_vec.csv'.format(id),delimiter=','))])\n",
    "\n",
    "    matrices.append(matrix)\n",
    "    vectors.append(vector[0])\n",
    "\n",
    "    data_dict[id]['pid'] = i\n",
    "    data_dict[id]['matrix'] = matrix\n",
    "    data_dict[id]['vector'] = vector\n",
    "\n",
    "    i += 1\n",
    "\n",
    "matrices = np.array(matrices)\n",
    "vectors = np.array(vectors)\n",
    "iqs = np.array(iqs)\n",
    "regions = list(csv.reader(open(\"/home/thomas/git/datascience/MSDataSci/505/data/project_three/Atlas_regions.csv\")))"
   ]
  },
  {
   "cell_type": "code",
   "execution_count": null,
   "metadata": {},
   "outputs": [],
   "source": [
    "# mean_log_dist = exp(mu+((sigma**2)/2))"
   ]
  },
  {
   "cell_type": "code",
   "execution_count": 129,
   "metadata": {},
   "outputs": [
    {
     "name": "stdout",
     "output_type": "stream",
     "text": [
      "[1, 0, 0, 1, 1, 1, 0, 0, 0, 1, 1, 0, 1, 1, 1, 1, 1, 1, 1, 1, 1, 1, 1, 1, 1, 1, 1, 1, 1, 1, 1, 1, 0, 0, 0, 1, 1, 1, 1, 1, 1, 1, 1, 1, 1, 1, 1, 0, 1, 1, 1, 1, 1, 1, 1, 1, 0, 1]\n",
      "[ 0.  0.  0. ... -0. -0.  0.]\n"
     ]
    }
   ],
   "source": [
    "lasso_model = Lasso(alpha=10)\n",
    "print(iqs_binary_labels)\n",
    "lasso_model.fit(vectors,np.transpose(iqs_binary_labels))\n",
    "\n",
    "print(lasso_model.coef_)"
   ]
  },
  {
   "cell_type": "code",
   "execution_count": 112,
   "metadata": {},
   "outputs": [
    {
     "name": "stdout",
     "output_type": "stream",
     "text": [
      "2 folds fives: scores mean: 0.006338285076860584 and stdev: 0.006317048040716586\n",
      "3 folds fives: scores mean: 0.018137177922203086 and stdev: 0.012593184965219157\n",
      "4 folds fives: scores mean: 0.053372879923417715 and stdev: 0.06009084867980492\n",
      "5 folds fives: scores mean: 0.12073697563544186 and stdev: 0.13134779620641593\n",
      "6 folds fives: scores mean: 0.06065394777485764 and stdev: 0.059230282225532484\n",
      "7 folds fives: scores mean: 0.14851795665246043 and stdev: 0.1320763565216199\n",
      "8 folds fives: scores mean: 0.11742065854328437 and stdev: 0.12183070264577016\n",
      "9 folds fives: scores mean: 0.12145005972278951 and stdev: 0.10488333346276538\n",
      "10 folds fives: scores mean: 0.0999911491738563 and stdev: 0.08329823904480027\n",
      "11 folds fives: scores mean: 0.26011449936847286 and stdev: 0.22857059724724513\n",
      "12 folds fives: scores mean: 0.1227236862796579 and stdev: 0.1441207089266151\n",
      "13 folds fives: scores mean: 0.23559454963746 and stdev: 0.3123375949430736\n",
      "14 folds fives: scores mean: 0.19124467642240295 and stdev: 0.21066620013171167\n",
      "15 folds fives: scores mean: 0.32133768794256673 and stdev: 0.33510217796750136\n",
      "16 folds fives: scores mean: 0.46219814193665165 and stdev: 0.33083990371390354\n",
      "17 folds fives: scores mean: 0.3897570333510928 and stdev: 0.2995844375340992\n",
      "18 folds fives: scores mean: 0.48272579304081265 and stdev: 0.3526993959458123\n"
     ]
    },
    {
     "data": {
      "text/plain": [
       "[<matplotlib.lines.Line2D at 0x7ff5147f57f0>]"
      ]
     },
     "execution_count": 112,
     "metadata": {},
     "output_type": "execute_result"
    },
    {
     "data": {
      "image/png": "[encoded data removed]",
      "text/plain": [
       "<Figure size 432x288 with 1 Axes>"
      ]
     },
     "metadata": {
      "needs_background": "light"
     },
     "output_type": "display_data"
    }
   ],
   "source": [
    "pca = PCA(.8)\n",
    "pca.fit(vectors)\n",
    "vectors = pca.fit_transform(vectors)\n",
    "\n",
    "fold_test_x = []\n",
    "fold_test_means = []\n",
    "fold_test_stds = []\n",
    "for i in range(2,19):\n",
    "    skf = KFold(n_splits=i,shuffle=True)\n",
    "    scores = []\n",
    "    for train_index, test_index in skf.split(vectors,iqs):\n",
    "        vectors_train, vectors_test = vectors[train_index], vectors[test_index]\n",
    "        iqs_train, iqs_test = iqs[train_index], iqs[test_index]\n",
    "\n",
    "\n",
    "\n",
    "        # plt.hist(vectors[:,0],bins=10)\n",
    "        # plt.hist(new_columns[8],bins=10)\n",
    "        # plt.show()\n",
    "\n",
    "        # plt.boxplot(vectors[:,0:50])\n",
    "\n",
    "        # plt.boxplot(vectors[:,51:100])\n",
    "        # plt.show()\n",
    "\n",
    "        linreg = linear_model.LinearRegression()\n",
    "        linreg.fit(vectors_train,iqs_train)\n",
    "        Yhat = linreg.predict(vectors_test)\n",
    "        scores.append((pearsonr(iqs_test, Yhat)[0]**2)[0])\n",
    "        \n",
    "    print('{} folds fives: scores mean: {} and stdev: {}'.format(i,np.mean(scores),np.std(scores)))\n",
    "    fold_test_means.append(np.mean(scores))\n",
    "    fold_test_x.append(i)\n",
    "    fold_test_stds.append(np.std(scores))\n",
    "\n",
    "plt.plot(fold_test_x,fold_test_means, color='red')\n",
    "plt.plot(fold_test_x,fold_test_stds, color='blue')\n",
    "\n",
    "# plt.hist(scores,bins=6)\n",
    "# plt.show()\n"
   ]
  },
  {
   "cell_type": "code",
   "execution_count": 110,
   "metadata": {},
   "outputs": [],
   "source": [
    "\n",
    "# sys.exit()\n",
    "\n",
    "\n",
    "\n",
    "\n",
    "\n",
    "\n",
    "# sys.exit('')\n",
    "\n",
    "\n",
    "# def graphdata(patientid):\n",
    "#     iq=data_dict[patientid]['iq']\n",
    "#     plt.figure(figsize = [10,10])\n",
    "#     plt.imshow(data_dict[patientid]['matrix'])\n",
    "#     plt.set_cmap('hot')\n",
    "#     plt.colorbar()\n",
    "#     plt.title( f\"IQ Score of {iq} \")\n",
    "#     plt.show()\n",
    "\n",
    "\n",
    "# graphdata('NS061')\n",
    "\n",
    "\n",
    "\n",
    "\n",
    "\n",
    "\n",
    "# pipe_steps = [  ('feature_engineering', [\n",
    "#                     ('VT', VarianceThreshold()),\n",
    "#                     ('PCA', PCA())]),\n",
    "#                 ('scaler', [\n",
    "#                     ('standard', StandardScaler()),\n",
    "#                     ('minmax', MinMaxScaler())]),\n",
    "#                 ('classifier', [\n",
    "#                     ('LR', LogisticRegression()),\n",
    "#                     ('SVC', SVC()),\n",
    "#                     ('SGD', SGDClassifier())])]\n",
    "\n",
    "# # Grid search parameters for our models\n",
    "# param_grid = {'LR': {'penalty': ['l1', 'l2']},\n",
    "#               'SVC': {'kernel': ['linear', 'poly', 'rbf', 'sigmoid']},\n",
    "#               'SGD': {'penalty': ['elasticnet'],\n",
    "#                       'l1_ratio': [0.1, 0.2, 0.3]}}\n",
    "\n",
    "# # Quality metric that we want to optimize\n",
    "# scoring='roc_auc'\n",
    "\n",
    "# # Setting cross-validations\n",
    "# grid_cv = StratifiedKFold(n_splits=5, shuffle=True, random_state=0)\n",
    "# eval_cv = StratifiedKFold(n_splits=5, shuffle=True, random_state=1)\n",
    "\n",
    "# # >>> anova_svm = Pipeline([('anova', anova_filter), ('svc', clf)])\n",
    "# # >>> # You can set the parameters using the names issued\n",
    "# # >>> # For instance, fit using a k of 10 in the SelectKBest\n",
    "# # >>> # and a parameter 'C' of the svm\n",
    "# # >>> anova_svm.set_params(anova__k=10, svc__C=.1).fit(X, y)"
   ]
  },
  {
   "cell_type": "code",
   "execution_count": null,
   "metadata": {},
   "outputs": [],
   "source": []
  }
 ],
 "metadata": {
  "kernelspec": {
   "display_name": "Python 3",
   "language": "python",
   "name": "python3"
  },
  "language_info": {
   "codemirror_mode": {
    "name": "ipython",
    "version": 3
   },
   "file_extension": ".py",
   "mimetype": "text/x-python",
   "name": "python",
   "nbconvert_exporter": "python",
   "pygments_lexer": "ipython3",
   "version": "3.7.3"
  }
 },
 "nbformat": 4,
 "nbformat_minor": 2
}
