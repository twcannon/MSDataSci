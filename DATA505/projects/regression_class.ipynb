{
 "cells": [
  {
   "cell_type": "code",
   "execution_count": 7,
   "metadata": {},
   "outputs": [],
   "source": [
    "import numpy as np\n",
    "import matplotlib.pyplot as plt\n",
    "debug = True"
   ]
  },
  {
   "cell_type": "code",
   "execution_count": 15,
   "metadata": {},
   "outputs": [
    {
     "name": "stdout",
     "output_type": "stream",
     "text": [
      "[[1871.   31.   20. ...   42.   23.  225.]\n",
      " [1871.   28.   19. ...   28.   22.  218.]\n",
      " [1871.   29.   10. ...   53.   34.  223.]\n",
      " ...\n",
      " [2015.  162.   79. ...  500. 1215.   86.]\n",
      " [2015.  162.   74. ...  516. 1393.   92.]\n",
      " [2015.  162.   68. ...  579. 1112.   95.]]\n",
      "(2805, 21)\n",
      "[[2000.  162.   82. ...  662.  846.  134.]\n",
      " [2000.  162.   85. ...  500. 1220.  107.]\n",
      " [2000.  162.   95. ...  484. 1093.  129.]\n",
      " ...\n",
      " [2015.  162.   79. ...  500. 1215.   86.]\n",
      " [2015.  162.   74. ...  516. 1393.   92.]\n",
      " [2015.  162.   68. ...  579. 1112.   95.]]\n",
      "(480, 21)\n"
     ]
    }
   ],
   "source": [
    "stats =  np.genfromtxt('../data/regression_class/teams_raw.csv', delimiter = ',')\n",
    "\n",
    "print(stats) if debug else next\n",
    "print(stats.shape) if debug else next\n",
    "\n",
    "idx = stats[:,0] > 1999\n",
    "stats_2x = stats[idx,:]\n",
    "\n",
    "print(stats_2x) if debug else next\n",
    "print(stats_2x.shape) if debug else next\n",
    "\n",
    "headers = ['year','games played','wins','losses','runs','at bats','hits','doubles','triples','homeruns','walks','strikeouts','stolen bases','opponents runs','earned runs','earned runs average','hits allowed','homeruns allowed','walks allowed','strikeouts by pitchers','errors']"
   ]
  },
  {
   "cell_type": "code",
   "execution_count": 14,
   "metadata": {},
   "outputs": [
    {
     "data": {
      "image/png": "[encoded data removed]",
      "text/plain": [
       "<Figure size 432x288 with 1 Axes>"
      ]
     },
     "metadata": {
      "needs_background": "light"
     },
     "output_type": "display_data"
    }
   ],
   "source": [
    "Y = stats_2x[:,2]\n",
    "X = stats_2x[:,4]\n",
    "\n",
    "plt.figure()\n",
    "plt.scatter(X, Y, color='red', marker='.')\n",
    "plt.title('Wins -vs- Runs')\n",
    "plt.xlabel('Runs')\n",
    "plt.ylabel('Wins')\n",
    "plt.show()"
   ]
  },
  {
   "cell_type": "code",
   "execution_count": null,
   "metadata": {},
   "outputs": [],
   "source": [
    "fig,axs - plt.subplots(2,2)\n",
    "fig.subplots_adjust(hspace=0.8,wspace=0.8)\n",
    "axs[0,0].set_title('Wins -vs- Losses')\n",
    "axs[0,0].set(xlabel='losses',ylabel='wins')\n",
    "axs[0,0].scatter(stats_2x)"
   ]
  },
  {
   "cell_type": "code",
   "execution_count": null,
   "metadata": {},
   "outputs": [],
   "source": []
  }
 ],
 "metadata": {
  "kernelspec": {
   "display_name": "Python 3",
   "language": "python",
   "name": "python3"
  },
  "language_info": {
   "codemirror_mode": {
    "name": "ipython",
    "version": 3
   },
   "file_extension": ".py",
   "mimetype": "text/x-python",
   "name": "python",
   "nbconvert_exporter": "python",
   "pygments_lexer": "ipython3",
   "version": "3.7.3"
  }
 },
 "nbformat": 4,
 "nbformat_minor": 2
}
