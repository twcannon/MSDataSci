{
 "cells": [
  {
   "cell_type": "code",
   "execution_count": 1,
   "metadata": {},
   "outputs": [],
   "source": [
    "# year (0), games played (1), wins (2), losses (3), \n",
    "# runs (4), at bats (5), hits by oposing batters (6), \n",
    "# doubles (7), triples (8), homeruns (9), walks (10), \n",
    "# strikeouts (11), stolen bases (12), \n",
    "# opponents runs scored (13), earned runs allowed (14), \n",
    "# earned run average (15), hits allowed (16), \n",
    "# homeruns allowed (17), walks allowed (18), \n",
    "# strikeouts by pitchers (19), errors (20)"
   ]
  },
  {
   "cell_type": "code",
   "execution_count": 2,
   "metadata": {},
   "outputs": [],
   "source": [
    "# ----------------------------\n",
    "# Features 4 through 20\n",
    "# ----------------------------\n",
    "# 1) runs \n",
    "# 2) at bats \n",
    "# 3) hits by oposing batters \n",
    "# 4) doubles \n",
    "# 5) triples \n",
    "# 6) homeruns \n",
    "# 7) walks  \n",
    "# 8) strikeouts\n",
    "# 9) stolen bases \n",
    "# 10) opponents runs scored\n",
    "# 11) earned runs allowed \n",
    "# 12) earned run average \n",
    "# 13) hits allowed\n",
    "# 14) homeruns allowed\n",
    "# 15) walks allowed\n",
    "# 16) strikeouts by pitchers\n",
    "# 17) errors\n",
    "\n",
    "features = [ \"runs\", \"at bats\", \"hits by op. batters\", \n",
    "             \"doubles\", \"triples\", \"homeruns\", \n",
    "             \"walks\", \"strikeouts\", \"stolen bases\", \"opp. runs scored\", \n",
    "             \"era\", \"erav\", \"hits allowed\", \"homeruns allowed\",\n",
    "             \"walks allowed\", \"strikeouts by pitchers\", \"errors\"]"
   ]
  },
  {
   "cell_type": "code",
   "execution_count": 14,
   "metadata": {},
   "outputs": [],
   "source": [
    "import numpy as np\n",
    "import matplotlib.pyplot as plt\n",
    "import sklearn.linear_model as lm\n",
    "import sklearn.svm as svm\n",
    "from sklearn.model_selection import KFold\n",
    "from sklearn.pipeline import Pipeline\n",
    "from sklearn.feature_selection import SelectFromModel\n",
    "from sklearn.metrics import accuracy_score"
   ]
  },
  {
   "cell_type": "markdown",
   "metadata": {},
   "source": [
    "#### Online documentation for various scikit-learn functions \n",
    "1. API reference (https://scikit-learn.org/stable/modules/classes.html#module-sklearn.feature_selection)\n",
    "2. Generalized linear models (https://scikit-learn.org/stable/modules/linear_model.html#lasso)\n",
    "3. LASSO and feature selection (https://scikit-learn.org/stable/modules/generated/sklearn.linear_model.Lasso.html#sklearn.linear_model.Lasso) - look at regression coefficients (coef_ model attribute)\n",
    "4. KFold cross validation (https://scikit-learn.org/stable/modules/generated/sklearn.model_selection.KFold.html)"
   ]
  },
  {
   "cell_type": "code",
   "execution_count": 15,
   "metadata": {},
   "outputs": [
    {
     "name": "stdout",
     "output_type": "stream",
     "text": [
      "opp. runs scored ( w=3.310357754041947 ) \n",
      "runs ( w=3.302166416368542 ) \n",
      "walks allowed ( w=0.5935288725727443 ) \n",
      "strikeouts ( w=0.3587212724778082 ) \n",
      "at bats ( w=0.3156851280080856 ) \n",
      "strikeouts by pitchers ( w=0.22662720508687517 ) \n",
      "homeruns ( w=0.13904747902481066 ) \n",
      "hits allowed ( w=0.07600864853838399 ) \n",
      "homeruns allowed ( w=0.0 ) \n",
      "erav ( w=0.0 ) \n",
      "stolen bases ( w=0.0 ) \n",
      "walks ( w=0.0 ) \n",
      "triples ( w=0.0 ) \n",
      "doubles ( w=0.0 ) \n",
      "hits by op. batters ( w=0.0 ) \n",
      "era ( w=0.0 ) \n",
      "errors ( w=0.0 ) \n"
     ]
    }
   ],
   "source": [
    "VIZ = False\n",
    "NRM = False\n",
    "\n",
    "stats = np.genfromtxt( \"../data/teams_raw.csv\", delimiter=\",\")\n",
    "idx = stats[:,0] > 1999\n",
    "stats_2X = stats[idx,:]\n",
    "\n",
    "# labels\n",
    "Y = stats_2X[:,2] >= np.mean( stats_2X[:,2] )\n",
    "Y = np.int8( Y )\n",
    "\n",
    "# features 4 through 20\n",
    "X = stats_2X[:,4:]\n",
    "\n",
    "if VIZ:\n",
    "    plt.figure()\n",
    "    plt.boxplot( X )\n",
    "    plt.show()\n",
    "\n",
    "    plt.figure()\n",
    "    plt.stem( np.linspace( 1, np.size(X,1), np.size(X,1) ), np.max( X, 0 ) )\n",
    "    plt.show()\n",
    "\n",
    "if NRM:\n",
    "    mx = np.max(X,0)\n",
    "    for i in range(0,np.size(X,1)):\n",
    "        X[:,i] = X[:,i] / mx[i]\n",
    "\n",
    "model = lm.Lasso( alpha=1.0 )\n",
    "model.fit( X, np.transpose( np.matrix( Y ) ) )\n",
    "\n",
    "w = np.abs( model.coef_ ) * 1e3\n",
    "\n",
    "idx = np.argsort( w * -1 )\n",
    "\n",
    "for i in range(0, np.size(w )):\n",
    "    print( \"{0} ( w={1} ) \".format( features[idx[i]], w[idx[i]] ) )\n",
    "    \n"
   ]
  },
  {
   "cell_type": "code",
   "execution_count": 16,
   "metadata": {},
   "outputs": [
    {
     "name": "stdout",
     "output_type": "stream",
     "text": [
      "Accuracy of pipeline is 93.33%\n",
      "opp. runs scored ( w=1 ) \n",
      "runs ( w=1 ) \n",
      "walks allowed ( w=1 ) \n",
      "strikeouts ( w=1 ) \n",
      "at bats ( w=1 ) \n",
      "strikeouts by pitchers ( w=1 ) \n",
      "homeruns ( w=1 ) \n",
      "hits allowed ( w=1 ) \n",
      "homeruns allowed ( w=0 ) \n",
      "erav ( w=0 ) \n",
      "stolen bases ( w=0 ) \n",
      "walks ( w=0 ) \n",
      "triples ( w=0 ) \n",
      "doubles ( w=0 ) \n",
      "hits by op. batters ( w=1 ) \n",
      "era ( w=0 ) \n",
      "errors ( w=0 ) \n"
     ]
    }
   ],
   "source": [
    "fs_model = SelectFromModel( lm.Lasso( alpha=0.5 ) )\n",
    "cf_model = svm.SVC( kernel=\"linear\")\n",
    "\n",
    "two_stage_pipeline = Pipeline( [ ('features', fs_model ), ('classifier', cf_model ) ], memory=None )\n",
    "two_stage_pipeline.fit( X, Y )\n",
    "print( \"Accuracy of pipeline is {0:.2f}%\".format( two_stage_pipeline.score(X,Y)*100 ) )\n",
    "\n",
    "w = two_stage_pipeline.named_steps.features.get_support().astype( int )\n",
    "\n",
    "for i in range(0, np.size(w )):\n",
    "    print( \"{0} ( w={1} ) \".format( features[idx[i]], w[idx[i]] ) )"
   ]
  },
  {
   "cell_type": "code",
   "execution_count": 18,
   "metadata": {},
   "outputs": [
    {
     "name": "stdout",
     "output_type": "stream",
     "text": [
      "--------------------------------------\n",
      "[Train] Accuracy of pipeline is 88.96\n",
      "[Test] Accuracy of pipeline is 87.73\n",
      "--------------------------------------\n",
      "[Train] Accuracy of pipeline is 91.25\n",
      "[Test] Accuracy of pipeline is 90.28\n",
      "--------------------------------------\n",
      "[Train] Accuracy of pipeline is 87.50\n",
      "[Test] Accuracy of pipeline is 86.11\n",
      "--------------------------------------\n",
      "[Train] Accuracy of pipeline is 86.88\n",
      "[Test] Accuracy of pipeline is 85.42\n",
      "--------------------------------------\n",
      "[Train] Accuracy of pipeline is 85.42\n",
      "[Test] Accuracy of pipeline is 83.80\n",
      "--------------------------------------\n",
      "[Train] Accuracy of pipeline is 86.46\n",
      "[Test] Accuracy of pipeline is 84.95\n",
      "--------------------------------------\n",
      "[Train] Accuracy of pipeline is 85.21\n",
      "[Test] Accuracy of pipeline is 83.56\n",
      "--------------------------------------\n",
      "[Train] Accuracy of pipeline is 82.92\n",
      "[Test] Accuracy of pipeline is 81.02\n",
      "--------------------------------------\n",
      "[Train] Accuracy of pipeline is 83.75\n",
      "[Test] Accuracy of pipeline is 81.94\n",
      "--------------------------------------\n",
      "[Train] Accuracy of pipeline is 87.71\n",
      "[Test] Accuracy of pipeline is 86.34\n"
     ]
    }
   ],
   "source": [
    "kf_eval = KFold( n_splits=10, shuffle=True)\n",
    "\n",
    "kf_eval.get_n_splits( X )\n",
    "\n",
    "for test_idx, train_idx in kf_eval.split(X):\n",
    "    \n",
    "    print( \"--------------------------------------\" )\n",
    "    X_train, X_test = X[train_idx], X[test_idx]\n",
    "    y_train, y_test = Y[train_idx], Y[test_idx]\n",
    "    \n",
    "    two_stage_pipeline.fit( X_train, y_train )\n",
    "    print( \"[Train] Accuracy of pipeline is {0:.2f}\".format( two_stage_pipeline.score(X,Y)*100 ) )\n",
    "    test_acc = accuracy_score( two_stage_pipeline.predict( X_test ), y_test )\n",
    "    print( \"[Test] Accuracy of pipeline is {0:0.2f}\".format( test_acc*100 ) )\n"
   ]
  },
  {
   "cell_type": "code",
   "execution_count": 1,
   "metadata": {},
   "outputs": [
    {
     "ename": "NameError",
     "evalue": "name 'SelectFromModel' is not defined",
     "output_type": "error",
     "traceback": [
      "\u001b[0;31m---------------------------------------------------------------------------\u001b[0m",
      "\u001b[0;31mNameError\u001b[0m                                 Traceback (most recent call last)",
      "\u001b[0;32m<ipython-input-1-42d6f5208434>\u001b[0m in \u001b[0;36m<module>\u001b[0;34m\u001b[0m\n\u001b[1;32m      1\u001b[0m \u001b[0;32mfrom\u001b[0m \u001b[0msklearn\u001b[0m\u001b[0;34m.\u001b[0m\u001b[0mnaive_bayes\u001b[0m \u001b[0;32mimport\u001b[0m \u001b[0mBernoulliNB\u001b[0m\u001b[0;34m\u001b[0m\u001b[0;34m\u001b[0m\u001b[0m\n\u001b[0;32m----> 2\u001b[0;31m \u001b[0mfs_model\u001b[0m \u001b[0;34m=\u001b[0m \u001b[0mSelectFromModel\u001b[0m\u001b[0;34m(\u001b[0m \u001b[0mlm\u001b[0m\u001b[0;34m.\u001b[0m\u001b[0mLasso\u001b[0m\u001b[0;34m(\u001b[0m \u001b[0malpha\u001b[0m\u001b[0;34m=\u001b[0m\u001b[0;36m0.5\u001b[0m \u001b[0;34m)\u001b[0m \u001b[0;34m)\u001b[0m\u001b[0;34m\u001b[0m\u001b[0;34m\u001b[0m\u001b[0m\n\u001b[0m\u001b[1;32m      3\u001b[0m \u001b[0mcf_model\u001b[0m \u001b[0;34m=\u001b[0m \u001b[0mBernoulliNB\u001b[0m\u001b[0;34m(\u001b[0m\u001b[0;34m)\u001b[0m\u001b[0;34m\u001b[0m\u001b[0;34m\u001b[0m\u001b[0m\n\u001b[1;32m      4\u001b[0m \u001b[0;34m\u001b[0m\u001b[0m\n\u001b[1;32m      5\u001b[0m \u001b[0mtwo_stage_pipeline\u001b[0m \u001b[0;34m=\u001b[0m \u001b[0mPipeline\u001b[0m\u001b[0;34m(\u001b[0m \u001b[0;34m[\u001b[0m \u001b[0;34m(\u001b[0m\u001b[0;34m'features'\u001b[0m\u001b[0;34m,\u001b[0m \u001b[0mfs_model\u001b[0m \u001b[0;34m)\u001b[0m\u001b[0;34m,\u001b[0m \u001b[0;34m(\u001b[0m\u001b[0;34m'classifier'\u001b[0m\u001b[0;34m,\u001b[0m \u001b[0mcf_model\u001b[0m \u001b[0;34m)\u001b[0m \u001b[0;34m]\u001b[0m\u001b[0;34m,\u001b[0m \u001b[0mmemory\u001b[0m\u001b[0;34m=\u001b[0m\u001b[0;32mNone\u001b[0m \u001b[0;34m)\u001b[0m\u001b[0;34m\u001b[0m\u001b[0;34m\u001b[0m\u001b[0m\n",
      "\u001b[0;31mNameError\u001b[0m: name 'SelectFromModel' is not defined"
     ]
    }
   ],
   "source": [
    "from sklearn.naive_bayes import BernoulliNB\n",
    "fs_model = SelectFromModel( lm.Lasso( alpha=0.5 ) )\n",
    "cf_model = BernoulliNB()\n",
    "\n",
    "two_stage_pipeline = Pipeline( [ ('features', fs_model ), ('classifier', cf_model ) ], memory=None )\n",
    "two_stage_pipeline.fit( X, Y )\n",
    "print( \"Accuracy of pipeline is {0:.2f}%\".format( two_stage_pipeline.score(X,Y)*100 ) )\n",
    "\n",
    "w = two_stage_pipeline.named_steps.features.get_support().astype( int )\n",
    "\n",
    "for i in range(0, np.size(w )):\n",
    "    print( \"{0} ( w={1} ) \".format( features[idx[i]], w[idx[i]] ) )"
   ]
  },
  {
   "cell_type": "code",
   "execution_count": null,
   "metadata": {},
   "outputs": [],
   "source": []
  }
 ],
 "metadata": {
  "kernelspec": {
   "display_name": "Python 3",
   "language": "python",
   "name": "python3"
  },
  "language_info": {
   "codemirror_mode": {
    "name": "ipython",
    "version": 3
   },
   "file_extension": ".py",
   "mimetype": "text/x-python",
   "name": "python",
   "nbconvert_exporter": "python",
   "pygments_lexer": "ipython3",
   "version": "3.7.3"
  }
 },
 "nbformat": 4,
 "nbformat_minor": 2
}
