{
 "cells": [
  {
   "cell_type": "markdown",
   "metadata": {},
   "source": [
    "### Let's recreate the entrance exam question\n",
    "\n",
    "#### We'll do steps one through five together, on your own time you complete the remaining steps.\n",
    "\n",
    "1. Load **labeled_data.csv** (comma-separated values) as data matrix. First column in the matrix are the $x$-coordinate values, second column are the $y$-coordinate values, and the third (last column) are the label values (0 or 1). \n",
    "2. Create two matrices, one for each label, e.g. **L0_matrix**, and **L1_matrix**. In particulr, the L0_matrix only contains the $x$,$y$-coordinate values associated with label zero.\n",
    "3. Create one scatter plot that shows the $(x,y)$ location of all the label zero (L0) values and shows the $(x,y)$ location of all the label one (L1) values. Color the L0 points \"red\" and the L1 points \"blue\".\n",
    "4. Create two statistical models\n",
    "    - Using the $(x,y)$ values in L0 create a statistical model that includes the mean of $\\bar{x}$ and mean of $\\bar{y}$ and their variance. \n",
    "    - Using the $(x,y)$ values in L1 create a statistical model that includes the mean of $\\bar{x}$ and mean of $\\bar{y}$ and their variance.\n",
    "5. Load the two files\n",
    "    - **Unlabeled_data.csv** as a data matrix. First column in the matrix are the $x$-coordinate values and second column are the $y$-coordinate values.\n",
    "    - **labels.csv** as a data matrix. Only one column that defines the known label value for each $(x,y)$ data point in the unlabeled data matrix.\n",
    "6. Using the two statistical models created in Step 4, assign each $(x,y)$ point in the unlabeled matrix to a labeled group, i.e. assign to label zero or one. This can be accomplished using a simple distance-based measure (such as Euclidean distance).\n",
    "7. Calculate the accuracy of the approach using a 2x2 confusion matrix. Specifically, calculate the positive predictive value (PPV), negative predictive value (NPV), sensitivity, specificity, and $F_1$ score. Good reference (https://en.wikipedia.org/wiki/Confusion_matrix)\n",
    "8. Create one scatter plot that shows the $(x,y)$ point locations in the unlabeled data that were mis-classified, i.e. assigned to the wrong label group. You decided the color and the marker shape.\n",
    "\n",
    "\n"
   ]
  },
  {
   "cell_type": "code",
   "execution_count": 1,
   "metadata": {},
   "outputs": [],
   "source": [
    "# Add libraries here\n",
    "import numpy as np\n",
    "import matplotlib.pyplot as plt\n",
    "import helpers as h"
   ]
  },
  {
   "cell_type": "code",
   "execution_count": 2,
   "metadata": {},
   "outputs": [],
   "source": [
    "#create variables to debug code\n",
    "STEP1_DEBUG = 0\n",
    "STEP2_DEBUG = 0\n",
    "STEP3_DEBUG = 0\n",
    "STEP4_DEBUG = 0\n",
    "STEP5_DEBUG = 0\n",
    "STEP6_DEBUG = 0\n",
    "STEP7_DEBUG = 0\n",
    "STEP8_DEBUG = 0"
   ]
  },
  {
   "cell_type": "code",
   "execution_count": 3,
   "metadata": {},
   "outputs": [],
   "source": [
    "# -------------------------------\n",
    "# Step 1 (may need to change relative location of csv file)\n",
    "# -------------------------------\n",
    "\n",
    "Labeled_Data = np.genfromtxt(\"../data/labeled_data.csv\", delimiter=',')\n",
    "if STEP1_DEBUG:\n",
    "    print( Labeled_Data)\n"
   ]
  },
  {
   "cell_type": "code",
   "execution_count": 4,
   "metadata": {},
   "outputs": [],
   "source": [
    "# -------------------------------\n",
    "# Step 2\n",
    "# -------------------------------\n",
    "\n",
    "L0=Labeled_Data[:,2]==0\n",
    "L1=Labeled_Data[:,2]==1\n",
    "\n",
    "L0_matrix=Labeled_Data[L0,0:2]\n",
    "L1_matrix=Labeled_Data[L1,0:2]"
   ]
  },
  {
   "cell_type": "code",
   "execution_count": 19,
   "metadata": {},
   "outputs": [
    {
     "data": {
      "image/png": "[encoded data removed]",
      "text/plain": [
       "<Figure size 432x288 with 1 Axes>"
      ]
     },
     "metadata": {
      "needs_background": "light"
     },
     "output_type": "display_data"
    }
   ],
   "source": [
    "# -------------------------------\n",
    "# Step 3\n",
    "# -------------------------------\n",
    "\n",
    "plt.figure()\n",
    "plt.title( \"Scatter plot [Labeled Data]\")\n",
    "plt.xlabel( \"X-Axis\" )\n",
    "plt.ylabel( \"Y-Axis\" )\n",
    "plt.scatter( L0_matrix[:,0], L0_matrix[:,1], color='red', marker='o', label=\"label 0\")\n",
    "plt.scatter( L1_matrix[:,0], L1_matrix[:,1], color='blue', marker='o', label=\"label 1\")\n",
    "plt.legend()\n",
    "plt.show()"
   ]
  },
  {
   "cell_type": "code",
   "execution_count": 6,
   "metadata": {},
   "outputs": [],
   "source": [
    "# -------------------------------\n",
    "# Step 4\n",
    "# -------------------------------\n",
    "# model array format: [ mean x, mean y, var x, var y ]\n",
    "\n",
    "model_L0 = [ np.mean( L0_matrix[:,0] ), np.mean( L0_matrix[:,1] ), np.var( L0_matrix[:,0] ), np.var( L0_matrix[:,1] )]\n",
    "model_L1 = [ np.mean( L1_matrix[:,0] ), np.mean( L1_matrix[:,1] ), np.var( L1_matrix[:,0] ), np.var( L1_matrix[:,1] )]\n",
    "\n",
    "if STEP4_DEBUG:\n",
    "    print( model_L0 )\n",
    "    print( model_L1 )"
   ]
  },
  {
   "cell_type": "code",
   "execution_count": 7,
   "metadata": {},
   "outputs": [],
   "source": [
    "# -------------------------------\n",
    "# Step 5\n",
    "# -------------------------------\n",
    "\n",
    "Unlabeled_Data = np.genfromtxt(\"../data/unlabeled_data.csv\", delimiter=',')\n",
    "Labels = np.genfromtxt(\"../data/labels.csv\", delimiter=',')\n",
    "\n",
    "if STEP5_DEBUG:\n",
    "    print( Unlabeled_Data)\n",
    "    print( Labels )\n",
    "    print( Labels.shape )\n"
   ]
  },
  {
   "cell_type": "code",
   "execution_count": 9,
   "metadata": {},
   "outputs": [],
   "source": [
    "# -------------------------------\n",
    "# Step 6\n",
    "# -------------------------------\n",
    "\n",
    "Results=np.zeros( ( np.size( Labels,0 ), 2 ) )\n",
    "Results[:,0]=Labels\n",
    "\n",
    "for i in range( 0, np.size( Labels, 0 ) ):\n",
    "    \n",
    "    row = Unlabeled_Data[i,:]\n",
    "    \n",
    "    if h.eucdist( row, model_L0[0:2] ) > h.eucdist( row, model_L1[0:2] ):\n",
    "        Results[i,1] = 1\n",
    "        \n",
    "if STEP6_DEBUG:\n",
    "    print( Results )\n",
    "    "
   ]
  },
  {
   "cell_type": "code",
   "execution_count": 33,
   "metadata": {},
   "outputs": [
    {
     "name": "stdout",
     "output_type": "stream",
     "text": [
      "-----------------------------------\n",
      "Model Accuracy\n",
      "-----------------------------------\n",
      "PPV = 0.83\n",
      "NPV = 0.79\n",
      "SEN = 0.78\n",
      "SPC = 0.84\n",
      "F1  = 0.80\n"
     ]
    }
   ],
   "source": [
    "# -------------------------------\n",
    "# Step 7\n",
    "# -------------------------------\n",
    "\n",
    "confusion_matrix = np.zeros( ( 2 , 2 ) )\n",
    "\n",
    "for row in Results:\n",
    "    if row[0] == 0 and row[1] == 0:\n",
    "        confusion_matrix[0,0] = confusion_matrix[0,0] + 1\n",
    "    elif row[0] == 0 and row[1] == 1:\n",
    "        confusion_matrix[1,0] = confusion_matrix[1,0] + 1\n",
    "    elif row[0] == 1 and row[1] == 0:\n",
    "        confusion_matrix[0,1] = confusion_matrix[0,1] + 1 \n",
    "    else:\n",
    "        confusion_matrix[1,1] = confusion_matrix[1,1] + 1   \n",
    "\n",
    "print( \"-----------------------------------\" )\n",
    "print( \"Model Accuracy\" )\n",
    "print( \"-----------------------------------\" )\n",
    "print( \"PPV = {0:0.2f}\".format( h.ppv( confusion_matrix ) ) )\n",
    "print( \"NPV = {0:0.2f}\".format( h.npv( confusion_matrix ) ) )\n",
    "print( \"SEN = {0:0.2f}\".format( h.sensitivity( confusion_matrix ) ) )\n",
    "print( \"SPC = {0:0.2f}\".format( h.specificity( confusion_matrix ) ) )\n",
    "print( \"F1  = {0:0.2f}\".format( h.f1( confusion_matrix ) ) )"
   ]
  },
  {
   "cell_type": "code",
   "execution_count": 32,
   "metadata": {},
   "outputs": [
    {
     "data": {
      "image/png": "[encoded data removed]",
      "text/plain": [
       "<Figure size 432x288 with 1 Axes>"
      ]
     },
     "metadata": {
      "needs_background": "light"
     },
     "output_type": "display_data"
    }
   ],
   "source": [
    "# -------------------------------\n",
    "# Step 8\n",
    "# -------------------------------\n",
    "\n",
    "plt.figure()\n",
    "plt.title( \"Scatter plot [UnLabeled Data Classification Error]\")\n",
    "plt.xlabel( \"X-Axis\" )\n",
    "plt.ylabel( \"Y-Axis\" )\n",
    "\n",
    "Label_0_Error = np.empty( (0,2) )\n",
    "Label_1_Error = np.empty( (0,2) )\n",
    "\n",
    "for i in range( 0, np.size( Results, 0 ) ):\n",
    "    \n",
    "    point = Unlabeled_Data[i,:]\n",
    "    result = Results[i,:]\n",
    "    \n",
    "    if ( result[0] == 0 ) and ( result[1] == 1 ):\n",
    "        Label_0_Error = np.append( Label_0_Error, [ point ], axis=0 )\n",
    "    elif ( result[0] == 1 ) and ( result[1] == 0 ):\n",
    "        Label_1_Error = np.append( Label_1_Error, [ point ], axis=0 )\n",
    "        \n",
    "plt.scatter( Label_0_Error[:,0], Label_0_Error[:,1], color='red', marker='x', label=\"label 0 error\" )\n",
    "plt.scatter( Label_1_Error[:,0], Label_1_Error[:,1], color='blue', marker='x', label=\"label 1 error\" )\n",
    "plt.legend()\n",
    "plt.show()"
   ]
  },
  {
   "cell_type": "code",
   "execution_count": null,
   "metadata": {},
   "outputs": [],
   "source": []
  }
 ],
 "metadata": {
  "kernelspec": {
   "display_name": "Python 3",
   "language": "python",
   "name": "python3"
  },
  "language_info": {
   "codemirror_mode": {
    "name": "ipython",
    "version": 3
   },
   "file_extension": ".py",
   "mimetype": "text/x-python",
   "name": "python",
   "nbconvert_exporter": "python",
   "pygments_lexer": "ipython3",
   "version": "3.7.3"
  }
 },
 "nbformat": 4,
 "nbformat_minor": 2
}
